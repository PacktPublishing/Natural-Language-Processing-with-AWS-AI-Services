{
 "cells": [
  {
   "cell_type": "markdown",
   "id": "6a204c35",
   "metadata": {},
   "source": [
    "# PII Detection and Redaction for setting compliance and control\n",
    "\n",
    "In this , we will be performing extracting the text from the documents using AWS Textract and then use Comprehend to perform pii detection. Then we will be using python function to redact that portion of the image. \n",
    "Here is conceptual architectural flow:\n",
    "\n",
    "![alt-text](piiredact.png)\n",
    "\n",
    "You can automate the entire end to end flow using step function and lambda for orchestration.\n",
    "\n",
    "We will walk you through following steps:\n",
    "\n",
    "## Step 1: Setup and install libraries \n",
    "## Step 2: Extract text from sample document\n",
    "## Step 3: Save the extracted text into text/csv file and uplaod to Amazon S3 bucket\n",
    "## Step 4: Check for PII using Amazon Comprehend Detect PII Sync API.\n",
    "## Step 5: Mask PII using Amazon Comprehend PII Analysis Job\n",
    "## Step 6: View the redacted/masked output in Amazon S3 Bucket\n"
   ]
  },
  {
   "cell_type": "markdown",
   "id": "bf848fe3",
   "metadata": {},
   "source": [
    "# Lets start with Step 1: Setup and install libraries"
   ]
  },
  {
   "cell_type": "markdown",
   "id": "34bcf133",
   "metadata": {},
   "source": [
    "import json\n",
    "import boto3\n",
    "import re\n",
    "import csv\n",
    "import sagemaker\n",
    "from sagemaker import get_execution_role\n",
    "from sagemaker.s3 import S3Uploader, S3Downloader\n",
    "import uuid\n",
    "import time\n",
    "import io\n",
    "from io import BytesIO\n",
    "import sys\n",
    "from pprint import pprint\n",
    "\n",
    "from IPython.display import Image, display\n",
    "from PIL import Image as PImage, ImageDraw"
   ]
  },
  {
   "cell_type": "code",
   "execution_count": null,
   "id": "2ebd3fed",
   "metadata": {},
   "outputs": [],
   "source": [
    "!pip install amazon-textract-response-parser"
   ]
  },
  {
   "cell_type": "code",
   "execution_count": null,
   "id": "4a8e44b8",
   "metadata": {},
   "outputs": [],
   "source": [
    "import pandas as pd\n",
    "import webbrowser, os\n",
    "import json\n",
    "import boto3\n",
    "import re\n",
    "import sagemaker\n",
    "from sagemaker import get_execution_role\n",
    "from sagemaker.s3 import S3Uploader, S3Downloader\n",
    "import uuid\n",
    "import time\n",
    "import io\n",
    "from io import BytesIO\n",
    "import sys\n",
    "from pprint import pprint\n",
    "\n",
    "from IPython.display import Image, display\n",
    "from PIL import Image as PImage, ImageDraw"
   ]
  },
  {
   "cell_type": "code",
   "execution_count": null,
   "id": "52f62fbd",
   "metadata": {},
   "outputs": [],
   "source": [
    "\n",
    "region = boto3.Session().region_name\n",
    "\n",
    "role = get_execution_role()\n",
    "print(role)\n",
    "\n",
    "bucket = sagemaker.Session().default_bucket()\n",
    "\n",
    "prefix = \"pii-detection-redaction\"\n",
    "bucket_path = \"https://s3-{}.amazonaws.com/{}\".format(region, bucket)\n"
   ]
  },
  {
   "cell_type": "markdown",
   "id": "167dde46",
   "metadata": {},
   "source": [
    "# Step 2: Extract text from sample document¶"
   ]
  },
  {
   "cell_type": "code",
   "execution_count": null,
   "id": "475ed18a",
   "metadata": {},
   "outputs": [],
   "source": [
    "# Document\n",
    "documentName = \"bankstatement.JPG\"\n",
    "\n",
    "display(Image(filename=documentName))"
   ]
  },
  {
   "cell_type": "code",
   "execution_count": null,
   "id": "772e4c06",
   "metadata": {},
   "outputs": [],
   "source": [
    "client = boto3.client(service_name='textract',\n",
    "         region_name= 'us-east-1',\n",
    "         endpoint_url='https://textract.us-east-1.amazonaws.com')\n",
    "\n",
    "with open(documentName, 'rb') as file:\n",
    "            img_test = file.read()\n",
    "            bytes_test = bytearray(img_test)\n",
    "            print('Image loaded', documentName)\n",
    "\n",
    "    # process using image bytes\n",
    "response = client.detect_document_text(Document={'Bytes': bytes_test})\n"
   ]
  },
  {
   "cell_type": "code",
   "execution_count": null,
   "id": "f994f746",
   "metadata": {},
   "outputs": [],
   "source": [
    "#Extract key values\n",
    "# Iterate over elements in the document\n",
    "from trp import Document\n",
    "\n",
    "\n",
    "doc = Document(response)\n",
    "page_string = ''\n",
    "for page in doc.pages:\n",
    "    # Print lines and words\n",
    "       \n",
    "        for line in page.lines:\n",
    "            #print((line.text))\n",
    "            page_string += str(line.text)\n",
    "print(page_string)"
   ]
  },
  {
   "cell_type": "markdown",
   "id": "e4385858",
   "metadata": {},
   "source": [
    "# Step 3: Save the extracted text into text/csv file and uplaod to Amazon S3 bucket¶"
   ]
  },
  {
   "cell_type": "code",
   "execution_count": null,
   "id": "b4367f93",
   "metadata": {},
   "outputs": [],
   "source": [
    "# Lets get the  data into a text file\n",
    "text_filename = 'pii_data.txt'\n",
    "doc = Document(response)\n",
    "with open(text_filename, 'w', encoding='utf-8') as f:\n",
    "    for page in doc.pages:\n",
    "    # Print lines and words\n",
    "        page_string = ''\n",
    "        for line in page.lines:\n",
    "            #print((line.text))\n",
    "            page_string += str(line.text)\n",
    "        #print(page_string)\n",
    "        f.writelines(page_string + \"\\n\")"
   ]
  },
  {
   "cell_type": "code",
   "execution_count": null,
   "id": "b62b48b3",
   "metadata": {},
   "outputs": [],
   "source": [
    "# Load the documents locally for later analysis\n",
    "with open(text_filename, \"r\") as fi:\n",
    "    raw_texts = [line.strip() for line in fi.readlines()]"
   ]
  },
  {
   "cell_type": "code",
   "execution_count": null,
   "id": "c40f2d22",
   "metadata": {},
   "outputs": [],
   "source": [
    "import boto3\n",
    "\n",
    "s3 = boto3.resource('s3')\n",
    "s3.Bucket(bucket).upload_file(\"pii_data.txt\", \"pii-detection-redaction/pii_data.txt\")"
   ]
  },
  {
   "cell_type": "markdown",
   "id": "69a5cb4c",
   "metadata": {},
   "source": [
    "# Step 4: Check for PII using Amazon Comprehend Detect PII Sync API"
   ]
  },
  {
   "cell_type": "code",
   "execution_count": null,
   "id": "641fed7c",
   "metadata": {},
   "outputs": [],
   "source": [
    "comprehend = boto3.client(service_name='comprehend')"
   ]
  },
  {
   "cell_type": "code",
   "execution_count": null,
   "id": "12ce5e4f",
   "metadata": {},
   "outputs": [],
   "source": [
    "# Call Amazon Comprehend   and pass it the aggregated text from our   image.\n",
    "\n",
    "piilist=comprehend.detect_pii_entities(Text = page_string, LanguageCode='en')\n",
    "redacted_box_color='red'\n",
    "dpi = 72\n",
    "pii_detection_threshold = 0.00\n",
    "print ('Finding PII text...')\n",
    "not_redacted=0\n",
    "redacted=0\n",
    "for pii in piilist['Entities']:\n",
    "    print(pii['Type'])\n",
    "    if pii['Score'] > pii_detection_threshold:\n",
    "                    print (\"detected as type '\"+pii['Type']+\"' and will be redacted.\")\n",
    "                    redacted+=1\n",
    "                \n",
    "    else:\n",
    "        print (\" was detected as type '\"+pii['Type']+\"', but did not meet the confidence score threshold and will not be redacted.\")\n",
    "        not_redacted+=1\n",
    "\n",
    "\n",
    "print (\"Found\", redacted, \"text boxes to redact.\")\n",
    "print (not_redacted, \"additional text boxes were detected, but did not meet the confidence score threshold.\")"
   ]
  },
  {
   "cell_type": "markdown",
   "id": "69c52a92",
   "metadata": {},
   "source": [
    "# Step 5: Mask PII using Amazon Comprehend PII Analysis Job"
   ]
  },
  {
   "cell_type": "markdown",
   "id": "275acf23",
   "metadata": {},
   "source": [
    "We will use StartPiiEntitiesDetectionJob API\n",
    "\n",
    "StartPiiEntitiesDetectionJob API starts an asynchronous PII entity detection job for a collection of documents.\n",
    "\n",
    "We would be using this API to perform pii detection and redaction for pii_data.txt which we had inspected above.\n"
   ]
  },
  {
   "cell_type": "code",
   "execution_count": null,
   "id": "ee42299c",
   "metadata": {},
   "outputs": [],
   "source": [
    "import uuid\n",
    "InputS3URI= \"s3://\"+bucket+ \"/pii-detection-redaction/pii_data.txt\"\n",
    "print(InputS3URI)\n",
    "OutputS3URI=\"s3://\"+bucket+\"/pii-detection-redaction\"\n",
    "print(OutputS3URI)\n",
    "job_uuid = uuid.uuid1()\n",
    "job_name = f\"pii-job-{job_uuid}\""
   ]
  },
  {
   "cell_type": "markdown",
   "id": "56212a64",
   "metadata": {},
   "source": [
    "# Adding Amazon Comprehend as an additional trusted entity to this role\n",
    "\n",
    "This step is needed if you want to pass the execution role of this Notebook while calling Comprehend APIs as well without creating an additional Role. \n",
    "\n",
    "\n",
    "\n",
    "On the IAM dashboard, please click on Roles on the left sidenav and search for this Role. Once the Role appears, click on the Role to go to its Summary page. Click on the Trust relationships tab on the Summary page to add Amazon Comprehend as an additional trusted entity.\n",
    "\n",
    "Click on **Edit trust relationship** and replace the JSON with this JSON.\n",
    "```\n",
    "{\n",
    "  \"Version\": \"2012-10-17\",\n",
    "  \"Statement\": [\n",
    "    {\n",
    "      \"Effect\": \"Allow\",\n",
    "      \"Principal\": {\n",
    "        \"Service\": \"comprehend.amazonaws.com\"\n",
    "      },\n",
    "      \"Action\": \"sts:AssumeRole\"\n",
    "    }\n",
    "  ]\n",
    "}\n",
    "```\n",
    "\n",
    "Once this is complete, click on Update Trust Policy and you are done."
   ]
  },
  {
   "cell_type": "code",
   "execution_count": null,
   "id": "1ac2943e",
   "metadata": {},
   "outputs": [],
   "source": [
    "role_name = role[role.rfind('/') + 1:]\n",
    "print(\"https://console.aws.amazon.com/iam/home?region={0}#/roles/{1}\".format(region, role_name))\n"
   ]
  },
  {
   "cell_type": "code",
   "execution_count": null,
   "id": "dc816112",
   "metadata": {},
   "outputs": [],
   "source": [
    "\n",
    "response = comprehend.start_pii_entities_detection_job(\n",
    "    InputDataConfig={\n",
    "        'S3Uri': InputS3URI,\n",
    "        'InputFormat': 'ONE_DOC_PER_FILE'\n",
    "    },\n",
    "    OutputDataConfig={\n",
    "        'S3Uri': OutputS3URI\n",
    "       \n",
    "    },\n",
    "    Mode='ONLY_REDACTION',\n",
    "    RedactionConfig={\n",
    "        'PiiEntityTypes': [\n",
    "           'ALL',\n",
    "        ],\n",
    "        'MaskMode': 'MASK',\n",
    "        'MaskCharacter': '*'\n",
    "    },\n",
    "    DataAccessRoleArn = role,\n",
    "    JobName=job_name,\n",
    "    LanguageCode='en',\n",
    "    \n",
    ")"
   ]
  },
  {
   "cell_type": "code",
   "execution_count": null,
   "id": "038aca17",
   "metadata": {},
   "outputs": [],
   "source": [
    "# Get the job ID\n",
    "events_job_id = response['JobId']\n",
    "job = comprehend.describe_pii_entities_detection_job(JobId=events_job_id)\n",
    "print(job)"
   ]
  },
  {
   "cell_type": "markdown",
   "id": "d5c84f74",
   "metadata": {},
   "source": [
    "\n",
    "The job will take roughly 6-7 minutes. \n",
    "The below code is to check the status of the job. \n",
    "The cell execution would be completed after the job is completed.\n",
    "In case the job fails you can check the logs and status in AWS Console https://console.aws.amazon.com/comprehend/v2/home?region=us-east-1#analysis\n",
    "and try re running the job if you get this failure reason:\n",
    "    NO_WRITE_ACCESS_TO_OUTPUT: The provided data access role does not have write access to the output S3 URI."
   ]
  },
  {
   "cell_type": "code",
   "execution_count": null,
   "id": "aeb94ab2",
   "metadata": {},
   "outputs": [],
   "source": [
    "from time import sleep\n",
    "# Get current job status\n",
    "job = comprehend.describe_pii_entities_detection_job(JobId=events_job_id)\n",
    "print(job)\n",
    "# Loop until job is completed\n",
    "waited = 0\n",
    "timeout_minutes = 10\n",
    "while job['PiiEntitiesDetectionJobProperties']['JobStatus'] != 'COMPLETED':\n",
    "    sleep(60)\n",
    "    waited += 60\n",
    "    assert waited//60 < timeout_minutes, \"Job timed out after %d seconds.\" % waited\n",
    "    job = comprehend.describe_pii_entities_detection_job(JobId=events_job_id)"
   ]
  },
  {
   "cell_type": "code",
   "execution_count": null,
   "id": "6fe60743",
   "metadata": {},
   "outputs": [],
   "source": [
    "print(response)"
   ]
  },
  {
   "cell_type": "markdown",
   "id": "8a44d579",
   "metadata": {},
   "source": [
    "# Step 6: View the redacted/masked output in Amazon S3 Bucket¶"
   ]
  },
  {
   "cell_type": "code",
   "execution_count": null,
   "id": "4bb82ee2",
   "metadata": {},
   "outputs": [],
   "source": [
    "filename=\"pii_data.txt\"\n",
    "output_data_s3_file = job['PiiEntitiesDetectionJobProperties']['OutputDataConfig']['S3Uri'] + filename + '.out'\n",
    "print(output_data_s3_file)"
   ]
  },
  {
   "cell_type": "code",
   "execution_count": null,
   "id": "21be6b75",
   "metadata": {},
   "outputs": [],
   "source": [
    "\n",
    "# The output filename is the input filename + \".out\"\n",
    "s3_client = boto3.client(service_name='s3')\n",
    "filename=\"pii_data.txt\"\n",
    "output_data_s3_file = job['PiiEntitiesDetectionJobProperties']['OutputDataConfig']['S3Uri'] + filename + '.out'\n",
    "print(output_data_s3_file)\n",
    "output_data_s3_filepath=output_data_s3_file.split(\"//\")[1].split(\"/\")[1]+\"/\"+output_data_s3_file.split(\"//\")[1].split(\"/\")[2]+\"/\"+output_data_s3_file.split(\"//\")[1].split(\"/\")[3]+\"/\"+output_data_s3_file.split(\"//\")[1].split(\"/\")[4]\n",
    "print(output_data_s3_filepath)\n",
    "\n",
    "f = BytesIO()\n",
    "s3_client.download_fileobj(bucket, output_data_s3_filepath, f)\n",
    "f.seek(0)\n",
    "print(f.getvalue())"
   ]
  },
  {
   "cell_type": "markdown",
   "id": "686fc93b",
   "metadata": {},
   "source": [
    "Clean Up!\n",
    "\n",
    "Delete Amazon S3 Bucket https://docs.aws.amazon.com/AmazonS3/latest/userguide/delete-bucket.html"
   ]
  }
 ],
 "metadata": {
  "kernelspec": {
   "display_name": "conda_python3",
   "language": "python",
   "name": "conda_python3"
  },
  "language_info": {
   "codemirror_mode": {
    "name": "ipython",
    "version": 3
   },
   "file_extension": ".py",
   "mimetype": "text/x-python",
   "name": "python",
   "nbconvert_exporter": "python",
   "pygments_lexer": "ipython3",
   "version": "3.6.13"
  }
 },
 "nbformat": 4,
 "nbformat_minor": 5
}
