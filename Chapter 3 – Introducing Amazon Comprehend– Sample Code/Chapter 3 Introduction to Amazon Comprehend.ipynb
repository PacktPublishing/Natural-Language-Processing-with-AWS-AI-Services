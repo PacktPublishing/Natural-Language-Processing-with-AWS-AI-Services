{
 "cells": [
  {
   "cell_type": "code",
   "execution_count": 1,
   "id": "63adb700",
   "metadata": {},
   "outputs": [],
   "source": [
    "\n",
    "\n",
    "import boto3\n",
    "\n",
    "\n",
    "# Amazon Comprehend client\n",
    "comprehend = boto3.client('comprehend')\n"
   ]
  },
  {
   "cell_type": "markdown",
   "id": "942c89f4",
   "metadata": {},
   "source": [
    "# Entity Extraction Text Analysis Real time API"
   ]
  },
  {
   "cell_type": "code",
   "execution_count": 2,
   "id": "d1f7259e",
   "metadata": {},
   "outputs": [],
   "source": [
    "SampleText=\"Packt is a publishing company founded in 2003 headquartered in Birmingham, UK, with offices in Mumbai, India. Packt primarily publishes print and electronic books and videos relating to information technology, including programming, web design, data analysis and hardware.\""
   ]
  },
  {
   "cell_type": "code",
   "execution_count": 3,
   "id": "648fc434",
   "metadata": {},
   "outputs": [],
   "source": [
    "response = comprehend.detect_entities(\n",
    "    Text=SampleText,\n",
    "    LanguageCode='en')"
   ]
  },
  {
   "cell_type": "code",
   "execution_count": 4,
   "id": "5636caa9",
   "metadata": {},
   "outputs": [
    {
     "name": "stdout",
     "output_type": "stream",
     "text": [
      "{\n",
      "    \"Entities\": [\n",
      "        {\n",
      "            \"BeginOffset\": 0,\n",
      "            \"EndOffset\": 5,\n",
      "            \"Score\": 0.9967074394226074,\n",
      "            \"Text\": \"Packt\",\n",
      "            \"Type\": \"ORGANIZATION\"\n",
      "        },\n",
      "        {\n",
      "            \"BeginOffset\": 41,\n",
      "            \"EndOffset\": 45,\n",
      "            \"Score\": 0.9979597330093384,\n",
      "            \"Text\": \"2003\",\n",
      "            \"Type\": \"DATE\"\n",
      "        },\n",
      "        {\n",
      "            \"BeginOffset\": 63,\n",
      "            \"EndOffset\": 77,\n",
      "            \"Score\": 0.9947710037231445,\n",
      "            \"Text\": \"Birmingham, UK\",\n",
      "            \"Type\": \"LOCATION\"\n",
      "        },\n",
      "        {\n",
      "            \"BeginOffset\": 95,\n",
      "            \"EndOffset\": 108,\n",
      "            \"Score\": 0.9956813454627991,\n",
      "            \"Text\": \"Mumbai, India\",\n",
      "            \"Type\": \"LOCATION\"\n",
      "        },\n",
      "        {\n",
      "            \"BeginOffset\": 110,\n",
      "            \"EndOffset\": 115,\n",
      "            \"Score\": 0.9941675662994385,\n",
      "            \"Text\": \"Packt\",\n",
      "            \"Type\": \"ORGANIZATION\"\n",
      "        }\n",
      "    ],\n",
      "    \"ResponseMetadata\": {\n",
      "        \"HTTPHeaders\": {\n",
      "            \"content-length\": \"505\",\n",
      "            \"content-type\": \"application/x-amz-json-1.1\",\n",
      "            \"date\": \"Sat, 16 Oct 2021 16:57:48 GMT\",\n",
      "            \"x-amzn-requestid\": \"8fc531aa-0394-4495-8dce-34736924982f\"\n",
      "        },\n",
      "        \"HTTPStatusCode\": 200,\n",
      "        \"RequestId\": \"8fc531aa-0394-4495-8dce-34736924982f\",\n",
      "        \"RetryAttempts\": 0\n",
      "    }\n",
      "}\n"
     ]
    }
   ],
   "source": [
    "import json\n",
    "\n",
    "print (json.dumps(response, indent=4, sort_keys=True))"
   ]
  },
  {
   "cell_type": "markdown",
   "id": "b281b257",
   "metadata": {},
   "source": [
    "# Keyphrases Extraction Real Time APIs in French language"
   ]
  },
  {
   "cell_type": "code",
   "execution_count": 5,
   "id": "64cc6e6c",
   "metadata": {},
   "outputs": [],
   "source": [
    "SampleText=\"Packt est une société d'édition fondée en 2003 dont le siège est à Birmingham, au Royaume-Uni, avec des bureaux à Mumbai, en Inde. Packt publie principalement des livres et des vidéos imprimés et électroniques relatifs aux technologies de l'information, y compris la programmation, la conception Web, l'analyse de données et le matériel\""
   ]
  },
  {
   "cell_type": "code",
   "execution_count": 6,
   "id": "d87de3de",
   "metadata": {},
   "outputs": [],
   "source": [
    "response = comprehend.detect_key_phrases(\n",
    "    Text= SampleText,\n",
    "    LanguageCode='fr'\n",
    ")"
   ]
  },
  {
   "cell_type": "code",
   "execution_count": 7,
   "id": "47924391",
   "metadata": {},
   "outputs": [
    {
     "name": "stdout",
     "output_type": "stream",
     "text": [
      "{\n",
      "    \"KeyPhrases\": [\n",
      "        {\n",
      "            \"BeginOffset\": 0,\n",
      "            \"EndOffset\": 5,\n",
      "            \"Score\": 0.9993698000907898,\n",
      "            \"Text\": \"Packt\"\n",
      "        },\n",
      "        {\n",
      "            \"BeginOffset\": 10,\n",
      "            \"EndOffset\": 31,\n",
      "            \"Score\": 0.9999659657478333,\n",
      "            \"Text\": \"une soci\\u00e9t\\u00e9 d'\\u00e9dition\"\n",
      "        },\n",
      "        {\n",
      "            \"BeginOffset\": 42,\n",
      "            \"EndOffset\": 46,\n",
      "            \"Score\": 0.9996628761291504,\n",
      "            \"Text\": \"2003\"\n",
      "        },\n",
      "        {\n",
      "            \"BeginOffset\": 47,\n",
      "            \"EndOffset\": 60,\n",
      "            \"Score\": 0.998850405216217,\n",
      "            \"Text\": \"dont le si\\u00e8ge\"\n",
      "        },\n",
      "        {\n",
      "            \"BeginOffset\": 67,\n",
      "            \"EndOffset\": 93,\n",
      "            \"Score\": 0.8910684585571289,\n",
      "            \"Text\": \"Birmingham, au Royaume-Uni\"\n",
      "        },\n",
      "        {\n",
      "            \"BeginOffset\": 100,\n",
      "            \"EndOffset\": 129,\n",
      "            \"Score\": 0.8956787586212158,\n",
      "            \"Text\": \"des bureaux \\u00e0 Mumbai, en Inde\"\n",
      "        },\n",
      "        {\n",
      "            \"BeginOffset\": 131,\n",
      "            \"EndOffset\": 136,\n",
      "            \"Score\": 0.9922807812690735,\n",
      "            \"Text\": \"Packt\"\n",
      "        },\n",
      "        {\n",
      "            \"BeginOffset\": 159,\n",
      "            \"EndOffset\": 169,\n",
      "            \"Score\": 0.9994797706604004,\n",
      "            \"Text\": \"des livres\"\n",
      "        },\n",
      "        {\n",
      "            \"BeginOffset\": 173,\n",
      "            \"EndOffset\": 280,\n",
      "            \"Score\": 0.9548768997192383,\n",
      "            \"Text\": \"des vid\\u00e9os imprim\\u00e9s et \\u00e9lectroniques relatifs aux technologies de l'information, y compris la programmation\"\n",
      "        },\n",
      "        {\n",
      "            \"BeginOffset\": 282,\n",
      "            \"EndOffset\": 295,\n",
      "            \"Score\": 0.9993506073951721,\n",
      "            \"Text\": \"la conception\"\n",
      "        },\n",
      "        {\n",
      "            \"BeginOffset\": 296,\n",
      "            \"EndOffset\": 299,\n",
      "            \"Score\": 0.6837850213050842,\n",
      "            \"Text\": \"Web\"\n",
      "        },\n",
      "        {\n",
      "            \"BeginOffset\": 301,\n",
      "            \"EndOffset\": 321,\n",
      "            \"Score\": 0.9991421699523926,\n",
      "            \"Text\": \"l'analyse de donn\\u00e9es\"\n",
      "        },\n",
      "        {\n",
      "            \"BeginOffset\": 325,\n",
      "            \"EndOffset\": 336,\n",
      "            \"Score\": 0.9997556805610657,\n",
      "            \"Text\": \"le mat\\u00e9riel\"\n",
      "        }\n",
      "    ],\n",
      "    \"ResponseMetadata\": {\n",
      "        \"HTTPHeaders\": {\n",
      "            \"content-length\": \"1229\",\n",
      "            \"content-type\": \"application/x-amz-json-1.1\",\n",
      "            \"date\": \"Sat, 16 Oct 2021 16:58:06 GMT\",\n",
      "            \"x-amzn-requestid\": \"ed335826-bfe7-48c0-87d5-97671f341cc0\"\n",
      "        },\n",
      "        \"HTTPStatusCode\": 200,\n",
      "        \"RequestId\": \"ed335826-bfe7-48c0-87d5-97671f341cc0\",\n",
      "        \"RetryAttempts\": 0\n",
      "    }\n",
      "}\n"
     ]
    }
   ],
   "source": [
    "import json\n",
    "\n",
    "print (json.dumps(response, indent=4, sort_keys=True))"
   ]
  },
  {
   "cell_type": "markdown",
   "id": "40507ab5",
   "metadata": {},
   "source": [
    "# Batch Real time API for Amazon Detect Sentiment Demo \n",
    "Multiple Document Synchronous Processing mode where you can call Amazon Comprehend with a collection of up to 25 documents and receive a synchronous response. "
   ]
  },
  {
   "cell_type": "markdown",
   "id": "12bbca87",
   "metadata": {},
   "source": [
    "\n",
    "Packt Publication Book Reviews Setiment Analysis for the book \n",
    "\n",
    "40 Algorithms Every Programmer Should Know\n",
    "https://www.packtpub.com/product/40-algorithms-every-programmer-should-know/9781789801217"
   ]
  },
  {
   "cell_type": "markdown",
   "id": "99ed23e2",
   "metadata": {},
   "source": [
    "We are going to analyze some of the reviews for this book using batch snetiment analyis API."
   ]
  },
  {
   "cell_type": "code",
   "execution_count": 8,
   "id": "1c7cbc7e",
   "metadata": {},
   "outputs": [],
   "source": [
    "response = comprehend.batch_detect_sentiment(\n",
    "    TextList=[\n",
    "        'Well this is an area of my interest and this book is packed with essential knowledge','kinda all in one With good examples and rather easy to follow', 'There are good examples and samples in the book.', '40 Algorithms every Programmer should know is a good start to a vast topic about algorithms'\n",
    "    ],\n",
    "    LanguageCode='en'\n",
    ")"
   ]
  },
  {
   "cell_type": "code",
   "execution_count": 9,
   "id": "ea75fba5",
   "metadata": {},
   "outputs": [
    {
     "name": "stdout",
     "output_type": "stream",
     "text": [
      "{\n",
      "    \"ErrorList\": [],\n",
      "    \"ResponseMetadata\": {\n",
      "        \"HTTPHeaders\": {\n",
      "            \"content-length\": \"733\",\n",
      "            \"content-type\": \"application/x-amz-json-1.1\",\n",
      "            \"date\": \"Sat, 16 Oct 2021 16:58:35 GMT\",\n",
      "            \"x-amzn-requestid\": \"60ba774c-72b7-49b8-8016-40ea806c37a2\"\n",
      "        },\n",
      "        \"HTTPStatusCode\": 200,\n",
      "        \"RequestId\": \"60ba774c-72b7-49b8-8016-40ea806c37a2\",\n",
      "        \"RetryAttempts\": 0\n",
      "    },\n",
      "    \"ResultList\": [\n",
      "        {\n",
      "            \"Index\": 0,\n",
      "            \"Sentiment\": \"POSITIVE\",\n",
      "            \"SentimentScore\": {\n",
      "                \"Mixed\": 0.004781718365848064,\n",
      "                \"Negative\": 0.00489041255787015,\n",
      "                \"Neutral\": 0.028603093698620796,\n",
      "                \"Positive\": 0.9617248177528381\n",
      "            }\n",
      "        },\n",
      "        {\n",
      "            \"Index\": 1,\n",
      "            \"Sentiment\": \"POSITIVE\",\n",
      "            \"SentimentScore\": {\n",
      "                \"Mixed\": 0.043538015335798264,\n",
      "                \"Negative\": 0.0020733894780278206,\n",
      "                \"Neutral\": 0.005934751592576504,\n",
      "                \"Positive\": 0.9484539031982422\n",
      "            }\n",
      "        },\n",
      "        {\n",
      "            \"Index\": 2,\n",
      "            \"Sentiment\": \"POSITIVE\",\n",
      "            \"SentimentScore\": {\n",
      "                \"Mixed\": 0.006463758181780577,\n",
      "                \"Negative\": 0.001142512890510261,\n",
      "                \"Neutral\": 0.00479789637029171,\n",
      "                \"Positive\": 0.9875959157943726\n",
      "            }\n",
      "        },\n",
      "        {\n",
      "            \"Index\": 3,\n",
      "            \"Sentiment\": \"NEUTRAL\",\n",
      "            \"SentimentScore\": {\n",
      "                \"Mixed\": 0.00010260937415296212,\n",
      "                \"Negative\": 0.004924369975924492,\n",
      "                \"Neutral\": 0.6275114417076111,\n",
      "                \"Positive\": 0.36746159195899963\n",
      "            }\n",
      "        }\n",
      "    ]\n",
      "}\n"
     ]
    }
   ],
   "source": [
    "print (json.dumps(response, indent=4, sort_keys=True))"
   ]
  },
  {
   "cell_type": "markdown",
   "id": "8ee008fd",
   "metadata": {},
   "source": [
    "# Since the book reviews were in different languages. lets Identify the various languages in this book review"
   ]
  },
  {
   "cell_type": "code",
   "execution_count": 10,
   "id": "5314bb37",
   "metadata": {},
   "outputs": [],
   "source": [
    "response = comprehend.batch_detect_dominant_language(\n",
    "    TextList=[\n",
    "        'It include recenet algorithm trend. it is very helpful.','Je ne lai pas encore lu entièrement mais le livre semble expliquer de façon suffisamment claire lensemble de ces algorithmes.'\n",
    "    ]\n",
    ")"
   ]
  },
  {
   "cell_type": "code",
   "execution_count": 11,
   "id": "245a0cd3",
   "metadata": {},
   "outputs": [
    {
     "name": "stdout",
     "output_type": "stream",
     "text": [
      "{\n",
      "    \"ErrorList\": [],\n",
      "    \"ResponseMetadata\": {\n",
      "        \"HTTPHeaders\": {\n",
      "            \"content-length\": \"180\",\n",
      "            \"content-type\": \"application/x-amz-json-1.1\",\n",
      "            \"date\": \"Sat, 16 Oct 2021 16:58:57 GMT\",\n",
      "            \"x-amzn-requestid\": \"f5b3f499-a226-4517-83d5-a6c8b032ae7d\"\n",
      "        },\n",
      "        \"HTTPStatusCode\": 200,\n",
      "        \"RequestId\": \"f5b3f499-a226-4517-83d5-a6c8b032ae7d\",\n",
      "        \"RetryAttempts\": 0\n",
      "    },\n",
      "    \"ResultList\": [\n",
      "        {\n",
      "            \"Index\": 0,\n",
      "            \"Languages\": [\n",
      "                {\n",
      "                    \"LanguageCode\": \"en\",\n",
      "                    \"Score\": 0.987598717212677\n",
      "                }\n",
      "            ]\n",
      "        },\n",
      "        {\n",
      "            \"Index\": 1,\n",
      "            \"Languages\": [\n",
      "                {\n",
      "                    \"LanguageCode\": \"fr\",\n",
      "                    \"Score\": 0.9869422912597656\n",
      "                }\n",
      "            ]\n",
      "        }\n",
      "    ]\n",
      "}\n"
     ]
    }
   ],
   "source": [
    "print (json.dumps(response, indent=4, sort_keys=True))"
   ]
  },
  {
   "cell_type": "code",
   "execution_count": null,
   "id": "18f1dc3c",
   "metadata": {},
   "outputs": [],
   "source": []
  }
 ],
 "metadata": {
  "kernelspec": {
   "display_name": "conda_python3",
   "language": "python",
   "name": "conda_python3"
  },
  "language_info": {
   "codemirror_mode": {
    "name": "ipython",
    "version": 3
   },
   "file_extension": ".py",
   "mimetype": "text/x-python",
   "name": "python",
   "nbconvert_exporter": "python",
   "pygments_lexer": "ipython3",
   "version": "3.6.13"
  }
 },
 "nbformat": 4,
 "nbformat_minor": 5
}
