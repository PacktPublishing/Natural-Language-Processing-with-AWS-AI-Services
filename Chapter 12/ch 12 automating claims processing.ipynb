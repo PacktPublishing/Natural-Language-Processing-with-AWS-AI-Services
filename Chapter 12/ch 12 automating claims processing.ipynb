{
 "cells": [
  {
   "cell_type": "code",
   "execution_count": null,
   "id": "bdfb92d5",
   "metadata": {},
   "outputs": [],
   "source": [
    "import boto3\n",
    "import json\n",
    "import boto3\n",
    "import re\n",
    "import csv\n",
    "import sagemaker\n",
    "from sagemaker import get_execution_role\n",
    "from sagemaker.s3 import S3Uploader, S3Downloader\n",
    "import uuid\n",
    "import time\n",
    "import io\n",
    "from io import BytesIO\n",
    "import sys\n",
    "from pprint import pprint\n",
    "\n",
    "from IPython.display import Image, display\n",
    "from PIL import Image as PImage, ImageDraw"
   ]
  },
  {
   "cell_type": "code",
   "execution_count": null,
   "id": "9face02c",
   "metadata": {},
   "outputs": [],
   "source": [
    "!pip install amazon-textract-response-parser"
   ]
  },
  {
   "cell_type": "code",
   "execution_count": null,
   "id": "d2f74c64",
   "metadata": {},
   "outputs": [],
   "source": [
    "role = get_execution_role()\n",
    "#print(\"RoleArn: {}\".format(role))\n",
    "\n",
    "sess = sagemaker.Session()\n",
    "bucket = sess.default_bucket()\n",
    "prefix = 'claims-process-textract'"
   ]
  },
  {
   "cell_type": "markdown",
   "id": "27ed57ed",
   "metadata": {},
   "source": [
    "# Valid Document"
   ]
  },
  {
   "cell_type": "code",
   "execution_count": null,
   "id": "215958fe",
   "metadata": {},
   "outputs": [],
   "source": [
    "# Document\n",
    "documentName = \"validmedicalform.png\"\n",
    "\n",
    "display(Image(filename=documentName))"
   ]
  },
  {
   "cell_type": "code",
   "execution_count": null,
   "id": "bc6c1b06",
   "metadata": {},
   "outputs": [],
   "source": [
    "# process using image bytes\n",
    "def calltextract(documentName): \n",
    "    client = boto3.client(service_name='textract',\n",
    "         region_name= 'us-east-1',\n",
    "         endpoint_url='https://textract.us-east-1.amazonaws.com')\n",
    "\n",
    "    with open(documentName, 'rb') as file:\n",
    "            img_test = file.read()\n",
    "            bytes_test = bytearray(img_test)\n",
    "            print('Image loaded', documentName)\n",
    "\n",
    "    # process using image bytes\n",
    "    response = client.analyze_document(Document={'Bytes': bytes_test}, FeatureTypes=['FORMS'])\n",
    "\n",
    "    return response"
   ]
  },
  {
   "cell_type": "code",
   "execution_count": null,
   "id": "c8fad04d",
   "metadata": {},
   "outputs": [],
   "source": [
    "response= calltextract(documentName)\n",
    "print(response)"
   ]
  },
  {
   "cell_type": "code",
   "execution_count": null,
   "id": "a2a17fe9",
   "metadata": {},
   "outputs": [],
   "source": [
    "#Extract key values\n",
    "# Iterate over elements in the document\n",
    "from trp import Document\n",
    "def getformkeyvalue(response):\n",
    "    doc = Document(response)\n",
    "    #print(doc)\n",
    "    key_map = {}\n",
    "    for page in doc.pages:\n",
    "        # Print fields\n",
    "        for field in page.form.fields:\n",
    "            if field is None or field.key is None or field.value is None:\n",
    "                continue\n",
    "        #print(\"Field: Key: {}, Value: {}\".format(field.key.text, field.value.text))\n",
    "            key_map[field.key.text] = field.value.text\n",
    "    return key_map"
   ]
  },
  {
   "cell_type": "code",
   "execution_count": null,
   "id": "dd2c5e4f",
   "metadata": {},
   "outputs": [],
   "source": [
    "get_form_keys = getformkeyvalue(response)\n",
    "print(get_form_keys)"
   ]
  },
  {
   "cell_type": "markdown",
   "id": "15c6f940",
   "metadata": {},
   "source": [
    "# Check for validation using business rules\n",
    "Checking if claim Id is 12 digit and zip code is digit"
   ]
  },
  {
   "cell_type": "code",
   "execution_count": null,
   "id": "4fc3276e",
   "metadata": {},
   "outputs": [],
   "source": [
    "def validate(body):\n",
    "    json_acceptable_string = body.replace(\"'\", \"\\\"\")\n",
    "    json_data = json.loads(json_acceptable_string)\n",
    "    print(json_data)\n",
    "    zip = json_data['ZIP CODE']\n",
    "    id = json_data['ID NUMBER']\n",
    "\n",
    "    if(not zip.strip().isdigit()):\n",
    "        return False, id, \"Zip code invalid\"\n",
    "    length = len(id.strip())\n",
    "    if(length != 12):\n",
    "        return False, id, \"Invalid claim Id\"\n",
    "    return True, id, \"Ok\""
   ]
  },
  {
   "cell_type": "code",
   "execution_count": null,
   "id": "3fb2f299",
   "metadata": {},
   "outputs": [],
   "source": [
    " # Validate \n",
    "textract_json= json.dumps(get_form_keys,indent=2)\n",
    "res, formid, result = validate(textract_json)\n",
    "print(result)\n",
    "print(formid)"
   ]
  },
  {
   "cell_type": "markdown",
   "id": "2fbe1b4c",
   "metadata": {},
   "source": [
    "# Valid Medical Intake Form send to Comprehend medical to gain insights"
   ]
  },
  {
   "cell_type": "code",
   "execution_count": null,
   "id": "eb11d4fa",
   "metadata": {},
   "outputs": [],
   "source": [
    "comprehend = boto3.client(service_name='comprehendmedical')\n"
   ]
  },
  {
   "cell_type": "code",
   "execution_count": null,
   "id": "333ef20f",
   "metadata": {},
   "outputs": [],
   "source": [
    "# Detect medical entities\n",
    "cm_json_data =  comprehend.detect_entities_v2(Text=textract_json)\n",
    "print(\"\\nMedical Entities\\n========\")\n",
    "for entity in cm_json_data[\"Entities\"]:\n",
    "    print(\"- {}\".format(entity[\"Text\"]))\n",
    "    print (\"   Type: {}\".format(entity[\"Type\"]))\n",
    "    print (\"   Category: {}\".format(entity[\"Category\"]))\n",
    "    if(entity[\"Traits\"]):\n",
    "        print(\"   Traits:\")\n",
    "        for trait in entity[\"Traits\"]:\n",
    "            print (\"    - {}\".format(trait[\"Name\"]))\n",
    "    print(\"\\n\")"
   ]
  },
  {
   "cell_type": "markdown",
   "id": "c38b1101",
   "metadata": {},
   "source": [
    "Writing entities to CSV File"
   ]
  },
  {
   "cell_type": "code",
   "execution_count": null,
   "id": "30f4d931",
   "metadata": {},
   "outputs": [],
   "source": [
    "\n",
    "def printtocsv(cm_json_data,formid):       \n",
    "        entities = cm_json_data['Entities']\n",
    "        TEMP_FILE = 'cmresult.csv'\n",
    "        with open(TEMP_FILE, 'w') as csvfile: # 'w' will truncate the file\n",
    "            filewriter = csv.writer(csvfile, delimiter=',',\n",
    "                            quotechar='|', quoting=csv.QUOTE_MINIMAL)\n",
    "            filewriter.writerow([ 'ID','Category', 'Type', 'Text'])\n",
    "            for entity in entities:\n",
    "                filewriter.writerow([formid, entity['Category'], entity['Type'], entity['Text']])\n",
    "\n",
    "        filename = \"procedureresult/\" + formid + \".csv\"\n",
    "\n",
    "      \n",
    "        S3Uploader.upload(TEMP_FILE, 's3://{}/{}'.format(bucket, prefix))\n",
    "        print(\"successfully parsed:\" + filename)"
   ]
  },
  {
   "cell_type": "code",
   "execution_count": null,
   "id": "f91792f9",
   "metadata": {},
   "outputs": [],
   "source": [
    "printtocsv(cm_json_data,formid)"
   ]
  },
  {
   "cell_type": "markdown",
   "id": "53cae2b2",
   "metadata": {},
   "source": [
    "# Invalid Claim"
   ]
  },
  {
   "cell_type": "code",
   "execution_count": null,
   "id": "a15b8ea4",
   "metadata": {},
   "outputs": [],
   "source": [
    "InvalidDocument = \"invalidmedicalform.png\"\n",
    "\n",
    "display(Image(filename=InvalidDocument))"
   ]
  },
  {
   "cell_type": "code",
   "execution_count": null,
   "id": "2b7e3801",
   "metadata": {},
   "outputs": [],
   "source": [
    "response = calltextract(InvalidDocument)"
   ]
  },
  {
   "cell_type": "code",
   "execution_count": null,
   "id": "10d16911",
   "metadata": {},
   "outputs": [],
   "source": [
    "get_form_keys = getformkeyvalue(response)\n",
    "print(get_form_keys)"
   ]
  },
  {
   "cell_type": "code",
   "execution_count": null,
   "id": "e0b0ca01",
   "metadata": {},
   "outputs": [],
   "source": [
    " #In Validate \n",
    "textract_json= json.dumps(get_form_keys,indent=2)\n",
    "res, formid, result = validate(textract_json)\n",
    "print(result)\n",
    "print(formid)\n",
    "print(res)"
   ]
  },
  {
   "cell_type": "markdown",
   "id": "8bf1dfc9",
   "metadata": {},
   "source": [
    "# Notify stakeholders that its Invalid"
   ]
  },
  {
   "cell_type": "code",
   "execution_count": null,
   "id": "18d9dbab",
   "metadata": {},
   "outputs": [],
   "source": [
    "sns = boto3.client('sns')"
   ]
  },
  {
   "cell_type": "markdown",
   "id": "f0bbdb8d",
   "metadata": {},
   "source": [
    "# Go to https://console.aws.amazon.com/sns/v3/home?region=us-east-1#/homepage and create a topic as per book instruction"
   ]
  },
  {
   "cell_type": "code",
   "execution_count": null,
   "id": "ed26545b",
   "metadata": {},
   "outputs": [],
   "source": [
    "topicARN=\"<enter topic arn>\""
   ]
  },
  {
   "cell_type": "code",
   "execution_count": null,
   "id": "7227c6d0",
   "metadata": {},
   "outputs": [],
   "source": [
    "snsbody = \"Content:\" + str(textract_json) + \"Reason:\" + str(result)\n",
    "print(snsbody)"
   ]
  },
  {
   "cell_type": "code",
   "execution_count": null,
   "id": "0a1c110f",
   "metadata": {},
   "outputs": [],
   "source": [
    "try:\n",
    "    response = sns.publish(\n",
    "                    TargetArn = topicARN,\n",
    "                    Message= snsbody\n",
    "    )\n",
    "    print(response)\n",
    "except Exception as e:\n",
    "        print(\"Failed while doing validation\")\n",
    "        print(e.message)\n"
   ]
  },
  {
   "cell_type": "markdown",
   "id": "01eabab9",
   "metadata": {},
   "source": [
    "# Check your email for notification"
   ]
  },
  {
   "cell_type": "markdown",
   "id": "7935053e",
   "metadata": {},
   "source": [
    "# Clean UP\n",
    "Delete the topic you created from Console https://console.aws.amazon.com/sns/v3/home?region=us-east-1#/topic/"
   ]
  },
  {
   "cell_type": "markdown",
   "id": "70c96e49",
   "metadata": {},
   "source": [
    "Delete the Amazon s3 bucket and the files in the buckethttps://docs.aws.amazon.com/AmazonS3/latest/userguide/delete-bucket.html"
   ]
  }
 ],
 "metadata": {
  "kernelspec": {
   "display_name": "conda_python3",
   "language": "python",
   "name": "conda_python3"
  },
  "language_info": {
   "codemirror_mode": {
    "name": "ipython",
    "version": 3
   },
   "file_extension": ".py",
   "mimetype": "text/x-python",
   "name": "python",
   "nbconvert_exporter": "python",
   "pygments_lexer": "ipython3",
   "version": "3.6.13"
  }
 },
 "nbformat": 4,
 "nbformat_minor": 5
}
