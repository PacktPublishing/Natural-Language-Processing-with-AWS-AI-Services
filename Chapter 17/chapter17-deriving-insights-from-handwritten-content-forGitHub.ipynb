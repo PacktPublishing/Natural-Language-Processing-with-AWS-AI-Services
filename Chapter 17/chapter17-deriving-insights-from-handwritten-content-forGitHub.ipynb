{
 "cells": [
  {
   "cell_type": "markdown",
   "id": "26ba00e7",
   "metadata": {},
   "source": [
    "# Deriving insights from handwritten content using Amazon Textract and Amazon Quicksight\n",
    "\n",
    "This notebook is an accompanying utility for `Chapter 17 - Deriving insights from handwritten content` from the PACKT book **Natural Language Processing with AWS AI Services**. Please read the chapter and the instructions before trying this notebook. "
   ]
  },
  {
   "cell_type": "code",
   "execution_count": null,
   "id": "be3568f5",
   "metadata": {},
   "outputs": [],
   "source": [
    "# STEP 0 - CELL 1\n",
    "import boto3\n",
    "import json\n",
    "import csv\n",
    "import os\n",
    "\n",
    "infile = 'qsmani-raw.json'\n",
    "outfile = 'qsmani-formatted.json'\n",
    "bucket = '<enter-S3-bucket-name>'\n",
    "prefix = 'chapter17' # change this prefix if you like"
   ]
  },
  {
   "cell_type": "markdown",
   "id": "5ae09b21",
   "metadata": {},
   "source": [
    "### Update QuickSight Manifest\n",
    "We will replace the S3 bucket and prefix from the raw manifest file with what you have entered in STEP 0 - CELL 1 above. We will then create a new formatted manifest file that will be used for creating a dataset with [Amazon QuickSight](https://aws.amazon.com/quicksight/) based on the content we extract from the handwritten documents."
   ]
  },
  {
   "cell_type": "code",
   "execution_count": null,
   "id": "c2b074b2",
   "metadata": {},
   "outputs": [],
   "source": [
    "# STEP 1 - CELL 1\n",
    "import json\n",
    "manifest = open(infile,'r')\n",
    "ln = json.load(manifest)\n",
    "t = json.dumps(ln['fileLocations'][0]['URIPrefixes'])\n",
    "t = t.replace('bucket',bucket).replace('prefix',prefix)\n",
    "ln['fileLocations'][0]['URIPrefixes'] = json.loads(t)\n",
    "with open(outfile,'w', encoding='utf-8') as out:\n",
    "    json.dump(ln,out, ensure_ascii=False, indent=4)"
   ]
  },
  {
   "cell_type": "code",
   "execution_count": null,
   "id": "3bf01e5d",
   "metadata": {},
   "outputs": [],
   "source": [
    "# STEP 1 - CELL 2\n",
    "s3 = boto3.client('s3')\n",
    "s3.upload_file(outfile,bucket,prefix+'/'+outfile)\n",
    "print(\"Manifest file uploaded to: s3://{}/{}\".format(bucket,prefix+'/'+outfile))"
   ]
  },
  {
   "cell_type": "markdown",
   "id": "251c7992",
   "metadata": {},
   "source": [
    "### Extract handwritten content using Textract\n",
    "In this section, we will install the [Amazon Textract Response Parser](https://github.com/aws-samples/amazon-textract-response-parser/blob/master/src-python/README.md), use the [Amazon Textract boto3 library](https://boto3.amazonaws.com/v1/documentation/api/latest/reference/services/textract.html) to detect text from our handwritten images, and upload the contents into a CSV file which will be stored in your [Amazon S3 bucket](https://aws.amazon.com/s3/)"
   ]
  },
  {
   "cell_type": "code",
   "execution_count": null,
   "id": "246cbfa6",
   "metadata": {},
   "outputs": [],
   "source": [
    "#STEP 2 - CELL 1\n",
    "!python -m pip install amazon-textract-response-parser"
   ]
  },
  {
   "cell_type": "code",
   "execution_count": null,
   "id": "e0b2a18f",
   "metadata": {},
   "outputs": [],
   "source": [
    "# STEP 2 - CELL 2\n",
    "from trp import Document\n",
    "textract = boto3.client('textract')"
   ]
  },
  {
   "cell_type": "code",
   "execution_count": null,
   "id": "4807cf21",
   "metadata": {},
   "outputs": [],
   "source": [
    "# STEP 2 - CELL 3\n",
    "for docs in os.listdir('.'):\n",
    "    if docs.endswith('jpg'):\n",
    "        with open(docs, 'rb') as img:\n",
    "            img_test = img.read()\n",
    "            bytes_test = bytearray(img_test)\n",
    "            print('Extracted text from ', docs)\n",
    "        response = textract.analyze_document(Document={'Bytes': bytes_test}, FeatureTypes=['TABLES','FORMS'])\n",
    "        text = Document(response)\n",
    "        for page in text.pages:\n",
    "            for table in page.tables:\n",
    "                csvout = docs.replace('jpg','csv')\n",
    "                with open(csvout, 'w', newline='') as csvf:\n",
    "                    tab = csv.writer(csvf, delimiter=',')\n",
    "                    for r, row in enumerate(table.rows):\n",
    "                        csvrow = []\n",
    "                        for c, cell in enumerate(row.cells):\n",
    "                            if cell.text:\n",
    "                                csvrow.append(cell.text.replace('$','').rstrip())\n",
    "                        tab.writerow(csvrow)\n",
    "        s3.upload_file(csvout,bucket,prefix+'/dashboard/'+csvout)\n",
    "        print(\"CSV file for document {} uploaded to: s3://{}/{}\".format(docs,bucket,prefix+'/dashboard/'+csvout))"
   ]
  },
  {
   "cell_type": "markdown",
   "id": "91f606cd",
   "metadata": {},
   "source": [
    "### CONCLUSION\n",
    "That concludes the steps for the notebook. Please continue to follow the instructions from Chapter 17 in the book to understand how you can visualize and generate insights from your handwritten content using **[Amazon QuickSight](https://aws.amazon.com/quicksight/)**."
   ]
  }
 ],
 "metadata": {
  "kernelspec": {
   "display_name": "conda_python3",
   "language": "python",
   "name": "conda_python3"
  },
  "language_info": {
   "codemirror_mode": {
    "name": "ipython",
    "version": 3
   },
   "file_extension": ".py",
   "mimetype": "text/x-python",
   "name": "python",
   "nbconvert_exporter": "python",
   "pygments_lexer": "ipython3",
   "version": "3.6.13"
  }
 },
 "nbformat": 4,
 "nbformat_minor": 5
}
