{
 "cells": [
  {
   "cell_type": "markdown",
   "id": "copyrighted-memphis",
   "metadata": {},
   "source": [
    "# Reducing Localization costs and improving accuracy with Amazon Translate\n",
    "\n",
    "This is an accompanying notebook for Chapter 10 - Reducing locationlization costs and improving accuracy from the Natural Language Processing with AWS AI Services book. Please make sure to read the instructions provided in the book prior to attempting this notebook. In this chapter we will walkthrough a solution example of how to automate the translation of your web pages and save on localization costs using Amazon Translate. Organizations looking to expand internationally no longer have to implement time consuming and cost prohibitive localization projects to change their web pages, they can leverage [Amazon Translate](https://aws.amazon.com/translate/) which is a neural ML powered translation service as part of the development lifecycle to automatically convert web pages into multiple languages. We will show you how in this notebook. "
   ]
  },
  {
   "cell_type": "markdown",
   "id": "usual-holder",
   "metadata": {},
   "source": [
    "## Input HTML Web Page\n",
    "\n",
    "For this example we will use an `About Us` HTML and Javascript page the authors created for the fictional **Family Bank**, a subsidiary of the fictional LiveRight financial organization. The page looks as shown in the cell below and is assumed to be part of an overall organizational website that has an `About Us` link leading to this page. "
   ]
  },
  {
   "cell_type": "code",
   "execution_count": null,
   "id": "scientific-yukon",
   "metadata": {},
   "outputs": [],
   "source": [
    "# display the About Us page\n",
    "from IPython.display import IFrame\n",
    "IFrame(src='./input/aboutLRH.html', width=800, height=400)"
   ]
  },
  {
   "cell_type": "markdown",
   "id": "prostate-intent",
   "metadata": {},
   "source": [
    "#### Let us now review the HTML and Javascript source code for this page\n",
    "As we see below, this has a small HTML div block, and a corresponding Script block to print the current date. The Style block provides some CSS styling for our page."
   ]
  },
  {
   "cell_type": "code",
   "execution_count": null,
   "id": "horizontal-buying",
   "metadata": {},
   "outputs": [],
   "source": [
    "!pygmentize './input/aboutLRH.html'"
   ]
  },
  {
   "cell_type": "markdown",
   "id": "special-schema",
   "metadata": {},
   "source": [
    "## Prepare for Translation"
   ]
  },
  {
   "cell_type": "code",
   "execution_count": null,
   "id": "diverse-modem",
   "metadata": {},
   "outputs": [],
   "source": [
    "# Install the HTML parser\n",
    "!pip install beautifulsoup4"
   ]
  },
  {
   "cell_type": "code",
   "execution_count": null,
   "id": "falling-pontiac",
   "metadata": {},
   "outputs": [],
   "source": [
    "html_doc = ''\n",
    "input_htm = './input/aboutLRH.html'\n",
    "with open(input_htm) as f:\n",
    "    content = f.readlines()\n",
    "for i in content:\n",
    "    html_doc += i+' '"
   ]
  },
  {
   "cell_type": "code",
   "execution_count": null,
   "id": "dirty-heart",
   "metadata": {},
   "outputs": [],
   "source": [
    "from bs4 import BeautifulSoup\n",
    "soup = BeautifulSoup(html_doc, 'html.parser')"
   ]
  },
  {
   "cell_type": "code",
   "execution_count": null,
   "id": "earlier-coaching",
   "metadata": {},
   "outputs": [],
   "source": [
    "# HTML tags containing text we are interested in translating\n",
    "tags = ['title','h1','h2','p']"
   ]
  },
  {
   "cell_type": "code",
   "execution_count": null,
   "id": "weighted-shooting",
   "metadata": {},
   "outputs": [],
   "source": [
    "# Now we will extract the text content from the HTML for each tag in our tags list and load this to a new dict\n",
    "x_dict = {}\n",
    "for tag in tags:\n",
    "    x_dict[tag] = getattr(getattr(soup, tag),'string')\n",
    "x_dict"
   ]
  },
  {
   "cell_type": "markdown",
   "id": "ethical-promotion",
   "metadata": {},
   "source": [
    "## Translate to target languages\n",
    "We will now translate the input text from English to German, Spanish, Tamil and Hindi"
   ]
  },
  {
   "cell_type": "code",
   "execution_count": null,
   "id": "ecological-satisfaction",
   "metadata": {},
   "outputs": [],
   "source": [
    "import boto3\n",
    "\n",
    "translate = boto3.client(service_name='translate', region_name='us-east-1', use_ssl=True)\n",
    "out_text = {}\n",
    "languages = ['de','es','ta','hi']\n",
    "\n",
    "for target_lang in languages:\n",
    "    out_dict = {}\n",
    "    for key in x_dict:\n",
    "        result = translate.translate_text(Text=x_dict[key], \n",
    "            SourceLanguageCode=\"en\", TargetLanguageCode=target_lang)\n",
    "        out_dict[key] = result.get('TranslatedText')\n",
    "    out_text[target_lang] = out_dict\n",
    "\n",
    "print(\"German Version of Website Text\")\n",
    "print(\"******************************\")\n",
    "print(out_text['de'])\n",
    "print(\"******************************\")\n",
    "print(\"Spanish Version of Website Text\")\n",
    "print(\"******************************\")\n",
    "print(out_text['es'])\n",
    "print(\"******************************\")\n",
    "print(\"Tamil Version of Website Text\")\n",
    "print(\"******************************\")\n",
    "print(out_text['ta'])\n",
    "print(\"******************************\")\n",
    "print(\"Hindi Version of Website Text\")\n",
    "print(\"******************************\")\n",
    "print(out_text['hi'])\n",
    "print(\"******************************\")\n"
   ]
  },
  {
   "cell_type": "markdown",
   "id": "difficult-palace",
   "metadata": {},
   "source": [
    "## Build webpages for translated text\n",
    "We will now create separate HTML web pages for each of the translated languages and display them"
   ]
  },
  {
   "cell_type": "markdown",
   "id": "touched-champion",
   "metadata": {},
   "source": [
    "### German Webpage"
   ]
  },
  {
   "cell_type": "code",
   "execution_count": null,
   "id": "actual-ballet",
   "metadata": {},
   "outputs": [],
   "source": [
    "web_de = soup"
   ]
  },
  {
   "cell_type": "code",
   "execution_count": null,
   "id": "infrared-barbados",
   "metadata": {},
   "outputs": [],
   "source": [
    "web_de.title.string = out_text['de']['title']\n",
    "web_de.h1.string = out_text['de']['h1']\n",
    "web_de.h2.string = out_text['de']['h2']\n",
    "web_de.p.string = out_text['de']['p']"
   ]
  },
  {
   "cell_type": "code",
   "execution_count": null,
   "id": "polyphonic-blast",
   "metadata": {},
   "outputs": [],
   "source": [
    "de_html = web_de.prettify()\n",
    "with open('./output/aboutLRH_DE.html','w') as de_w:\n",
    "    de_w.write(de_html)"
   ]
  },
  {
   "cell_type": "code",
   "execution_count": null,
   "id": "southeast-display",
   "metadata": {},
   "outputs": [],
   "source": [
    "# display the About Us page in German\n",
    "from IPython.display import IFrame\n",
    "IFrame(src='./output/aboutLRH_DE.html', width=800, height=500)"
   ]
  },
  {
   "cell_type": "markdown",
   "id": "purple-northeast",
   "metadata": {},
   "source": [
    "### Spanish Webpage"
   ]
  },
  {
   "cell_type": "code",
   "execution_count": null,
   "id": "supreme-turning",
   "metadata": {},
   "outputs": [],
   "source": [
    "web_es = soup\n",
    "web_es.title.string = out_text['es']['title']\n",
    "web_es.h1.string = out_text['es']['h1']\n",
    "web_es.h2.string = out_text['es']['h2']\n",
    "web_es.p.string = out_text['es']['p']"
   ]
  },
  {
   "cell_type": "code",
   "execution_count": null,
   "id": "horizontal-skirt",
   "metadata": {},
   "outputs": [],
   "source": [
    "es_html = web_es.prettify()\n",
    "with open('./output/aboutLRH_ES.html','w') as es_w:\n",
    "    es_w.write(es_html)"
   ]
  },
  {
   "cell_type": "code",
   "execution_count": null,
   "id": "signed-clinton",
   "metadata": {},
   "outputs": [],
   "source": [
    "# display the About Us page in German\n",
    "from IPython.display import IFrame\n",
    "IFrame(src='./output/aboutLRH_ES.html', width=800, height=500)"
   ]
  },
  {
   "cell_type": "markdown",
   "id": "important-sample",
   "metadata": {},
   "source": [
    "### Hindi Webpage"
   ]
  },
  {
   "cell_type": "code",
   "execution_count": null,
   "id": "upset-corner",
   "metadata": {},
   "outputs": [],
   "source": [
    "web_hi = soup\n",
    "web_hi.title.string = out_text['hi']['title']\n",
    "web_hi.h1.string = out_text['hi']['h1']\n",
    "web_hi.h2.string = out_text['hi']['h2']\n",
    "web_hi.p.string = out_text['hi']['p']"
   ]
  },
  {
   "cell_type": "code",
   "execution_count": null,
   "id": "subtle-demand",
   "metadata": {},
   "outputs": [],
   "source": [
    "hi_html = web_hi.prettify()\n",
    "with open('./output/aboutLRH_HI.html','w') as hi_w:\n",
    "    hi_w.write(hi_html)"
   ]
  },
  {
   "cell_type": "code",
   "execution_count": null,
   "id": "dressed-kennedy",
   "metadata": {},
   "outputs": [],
   "source": [
    "# display the About Us page in German\n",
    "from IPython.display import IFrame\n",
    "IFrame(src='./output/aboutLRH_HI.html', width=800, height=500)"
   ]
  },
  {
   "cell_type": "markdown",
   "id": "connected-facing",
   "metadata": {},
   "source": [
    "### Tamil Webpage"
   ]
  },
  {
   "cell_type": "code",
   "execution_count": null,
   "id": "copyrighted-nation",
   "metadata": {},
   "outputs": [],
   "source": [
    "web_ta = soup\n",
    "web_ta.title.string = out_text['ta']['title']\n",
    "web_ta.h1.string = out_text['ta']['h1']\n",
    "web_ta.h2.string = out_text['ta']['h2']\n",
    "web_ta.p.string = out_text['ta']['p']"
   ]
  },
  {
   "cell_type": "code",
   "execution_count": null,
   "id": "loved-directive",
   "metadata": {},
   "outputs": [],
   "source": [
    "ta_html = web_ta.prettify()\n",
    "with open('./output/aboutLRH_TA.html','w') as ta_w:\n",
    "    ta_w.write(ta_html)"
   ]
  },
  {
   "cell_type": "code",
   "execution_count": null,
   "id": "outdoor-pound",
   "metadata": {},
   "outputs": [],
   "source": [
    "# display the About Us page in German\n",
    "from IPython.display import IFrame\n",
    "IFrame(src='./output/aboutLRH_TA.html', width=800, height=500)"
   ]
  },
  {
   "cell_type": "markdown",
   "id": "municipal-disaster",
   "metadata": {},
   "source": [
    "## End of Notebook\n",
    "Please return back to the book to continue reading from there"
   ]
  }
 ],
 "metadata": {
  "kernelspec": {
   "display_name": "conda_python3",
   "language": "python",
   "name": "conda_python3"
  },
  "language_info": {
   "codemirror_mode": {
    "name": "ipython",
    "version": 3
   },
   "file_extension": ".py",
   "mimetype": "text/x-python",
   "name": "python",
   "nbconvert_exporter": "python",
   "pygments_lexer": "ipython3",
   "version": "3.6.10"
  }
 },
 "nbformat": 4,
 "nbformat_minor": 5
}
