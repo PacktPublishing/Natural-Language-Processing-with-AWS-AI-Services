{
 "cells": [
  {
   "cell_type": "code",
   "execution_count": null,
   "id": "331ec774",
   "metadata": {},
   "outputs": [],
   "source": [
    "\n",
    "\n",
    "import boto3\n",
    "\n",
    "\n",
    "# Amazon Comprehend client\n",
    "comprehend = boto3.client('comprehend')\n"
   ]
  },
  {
   "cell_type": "markdown",
   "id": "a06ecc2d",
   "metadata": {},
   "source": [
    "# Entity Extraction Text Analysis Real time API"
   ]
  },
  {
   "cell_type": "code",
   "execution_count": null,
   "id": "b037763b",
   "metadata": {},
   "outputs": [],
   "source": [
    "SampleText=\"Packt is a publishing company founded in 2003 headquartered in Birmingham, UK, with offices in Mumbai, India. Packt primarily publishes print and electronic books and videos relating to information technology, including programming, web design, data analysis and hardware.\""
   ]
  },
  {
   "cell_type": "code",
   "execution_count": null,
   "id": "aa0adc0d",
   "metadata": {},
   "outputs": [],
   "source": [
    "response = comprehend.detect_entities(\n",
    "    Text=SampleText,\n",
    "    LanguageCode='en')"
   ]
  },
  {
   "cell_type": "code",
   "execution_count": null,
   "id": "b3ebd476",
   "metadata": {},
   "outputs": [],
   "source": [
    "import json\n",
    "\n",
    "print (json.dumps(response, indent=4, sort_keys=True))"
   ]
  },
  {
   "cell_type": "markdown",
   "id": "c33fe734",
   "metadata": {},
   "source": [
    "# Keyphrases Extraction Real Time APIs in French language"
   ]
  },
  {
   "cell_type": "code",
   "execution_count": null,
   "id": "f26663f7",
   "metadata": {},
   "outputs": [],
   "source": [
    "SampleText=\"Packt est une société d'édition fondée en 2003 dont le siège est à Birmingham, au Royaume-Uni, avec des bureaux à Mumbai, en Inde. Packt publie principalement des livres et des vidéos imprimés et électroniques relatifs aux technologies de l'information, y compris la programmation, la conception Web, l'analyse de données et le matériel\""
   ]
  },
  {
   "cell_type": "code",
   "execution_count": null,
   "id": "f32cee7e",
   "metadata": {},
   "outputs": [],
   "source": [
    "response = comprehend.detect_key_phrases(\n",
    "    Text= SampleText,\n",
    "    LanguageCode='fr'\n",
    ")"
   ]
  },
  {
   "cell_type": "code",
   "execution_count": null,
   "id": "922c0674",
   "metadata": {},
   "outputs": [],
   "source": [
    "import json\n",
    "\n",
    "print (json.dumps(response, indent=4, sort_keys=True))"
   ]
  },
  {
   "cell_type": "markdown",
   "id": "6cb7dbca",
   "metadata": {},
   "source": [
    "# Batch Real time API for Amazon Detect Sentiment Demo \n",
    "Multiple Document Synchronous Processing mode where you can call Amazon Comprehend with a collection of up to 25 documents and receive a synchronous response. "
   ]
  },
  {
   "cell_type": "markdown",
   "id": "75340b29",
   "metadata": {},
   "source": [
    "\n",
    "Packt Publication Book Reviews Setiment Analysis for the book \n",
    "\n",
    "40 Algorithms Every Programmer Should Know\n",
    "https://www.packtpub.com/product/40-algorithms-every-programmer-should-know/9781789801217"
   ]
  },
  {
   "cell_type": "markdown",
   "id": "881a0214",
   "metadata": {},
   "source": [
    "We are going to analyze some of the reviews for this book using batch snetiment analyis API."
   ]
  },
  {
   "cell_type": "code",
   "execution_count": null,
   "id": "b1702d83",
   "metadata": {},
   "outputs": [],
   "source": [
    "response = comprehend.batch_detect_sentiment(\n",
    "    TextList=[\n",
    "        'Well this is an area of my interest and this book is packed with essential knowledge','kinda all in one With good examples and rather easy to follow', 'There are good examples and samples in the book.', '40 Algorithms every Programmer should know is a good start to a vast topic about algorithms'\n",
    "    ],\n",
    "    LanguageCode='en'\n",
    ")"
   ]
  },
  {
   "cell_type": "code",
   "execution_count": null,
   "id": "eb435781",
   "metadata": {},
   "outputs": [],
   "source": [
    "print (json.dumps(response, indent=4, sort_keys=True))"
   ]
  },
  {
   "cell_type": "markdown",
   "id": "7e611cd7",
   "metadata": {},
   "source": [
    "# Since the book reviews were in different languages. lets Identify the various languages in this book review"
   ]
  },
  {
   "cell_type": "code",
   "execution_count": null,
   "id": "280e8e6f",
   "metadata": {},
   "outputs": [],
   "source": [
    "response = comprehend.batch_detect_dominant_language(\n",
    "    TextList=[\n",
    "        'It include recenet algorithm trend. it is very helpful.','Je ne lai pas encore lu entièrement mais le livre semble expliquer de façon suffisamment claire lensemble de ces algorithmes.'\n",
    "    ]\n",
    ")"
   ]
  },
  {
   "cell_type": "code",
   "execution_count": null,
   "id": "a4d8a274",
   "metadata": {},
   "outputs": [],
   "source": [
    "print (json.dumps(response, indent=4, sort_keys=True))"
   ]
  },
  {
   "cell_type": "code",
   "execution_count": null,
   "id": "9787222a",
   "metadata": {},
   "outputs": [],
   "source": []
  }
 ],
 "metadata": {
  "kernelspec": {
   "display_name": "conda_python3",
   "language": "python",
   "name": "conda_python3"
  },
  "language_info": {
   "codemirror_mode": {
    "name": "ipython",
    "version": 3
   },
   "file_extension": ".py",
   "mimetype": "text/x-python",
   "name": "python",
   "nbconvert_exporter": "python",
   "pygments_lexer": "ipython3",
   "version": "3.6.13"
  }
 },
 "nbformat": 4,
 "nbformat_minor": 5
}
